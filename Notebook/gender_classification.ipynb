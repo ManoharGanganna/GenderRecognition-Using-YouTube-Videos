{
  "cells": [
    {
      "cell_type": "markdown",
      "source": [
        "# -  Imports"
      ],
      "metadata": {
        "id": "pXU4SeMM10oC"
      }
    },
    {
      "cell_type": "code",
      "execution_count": null,
      "metadata": {
        "id": "pRegmShlF012",
        "colab": {
          "base_uri": "https://localhost:8080/"
        },
        "outputId": "9c58e355-48b8-4aca-f401-436df8ee0067"
      },
      "outputs": [
        {
          "output_type": "stream",
          "name": "stderr",
          "text": [
            "/usr/local/lib/python3.7/dist-packages/resampy/interpn.py:114: NumbaWarning: The TBB threading layer requires TBB version 2019.5 or later i.e., TBB_INTERFACE_VERSION >= 11005. Found TBB_INTERFACE_VERSION = 9107. The TBB threading layer is disabled.\n",
            "  _resample_loop_p(x, t_out, interp_win, interp_delta, num_table, scale, y)\n"
          ]
        }
      ],
      "source": [
        "import tensorflow as tf\n",
        "import torchaudio\n",
        "import sys,os\n",
        "import pandas as pd\n",
        "import numpy as np\n",
        "from numpy.random import randint\n",
        "import matplotlib.pyplot as plt\n",
        "import librosa\n",
        "import librosa.display\n",
        "import re\n",
        "\n",
        "from sklearn.preprocessing import LabelEncoder\n",
        "from tensorflow.keras.utils import to_categorical\n",
        "\n",
        "# models\n",
        "from sklearn import linear_model, naive_bayes, neighbors\n",
        "from sklearn.neighbors import NearestCentroid\n",
        "from sklearn.neighbors import KNeighborsClassifier\n",
        "from sklearn.neural_network import MLPClassifier\n",
        "from sklearn import tree\n",
        "from sklearn.ensemble import RandomForestClassifier\n",
        "import numpy as np\n",
        "from keras.models import Sequential\n",
        "from tensorflow.keras.optimizers import Adam\n",
        "from keras.utils import np_utils\n",
        "from sklearn import metrics \n",
        "from keras.layers import Dense, Dropout, Activation, Flatten, Convolution2D, Conv2D, MaxPooling2D, GlobalAveragePooling2D\n",
        "from scipy import stats\n",
        "\n",
        "# Libraries for the Accuracy Evaluation\n",
        "from sklearn import model_selection\n",
        "from sklearn.metrics import confusion_matrix\n",
        "from sklearn.metrics import accuracy_score\n",
        "from sklearn.metrics import precision_score\n",
        "from sklearn.metrics import recall_score\n",
        "%matplotlib inline"
      ]
    },
    {
      "cell_type": "markdown",
      "metadata": {
        "id": "NLnkeK8nF015"
      },
      "source": [
        "# -  Data Loading & Feature Extraction"
      ]
    },
    {
      "cell_type": "code",
      "execution_count": null,
      "metadata": {
        "id": "s-3Nij-kF016"
      },
      "outputs": [],
      "source": [
        "sample_rate = 16000\n",
        "def extract_features(audio):\n",
        "    mfccs = librosa.feature.mfcc(y=audio, sr=sample_rate, n_mfcc=40)\n",
        "    return mfccs"
      ]
    },
    {
      "cell_type": "markdown",
      "source": [
        "*Extract Audio Files from Tar*"
      ],
      "metadata": {
        "id": "aur70K7cJz2U"
      }
    },
    {
      "cell_type": "code",
      "execution_count": null,
      "metadata": {
        "colab": {
          "base_uri": "https://localhost:8080/"
        },
        "id": "KrHKVEqOm854",
        "outputId": "12860057-01f0-4703-85a6-57ae2d35ed46"
      },
      "outputs": [
        {
          "output_type": "stream",
          "name": "stdout",
          "text": [
            "tar: dev-clean.tar: Cannot open: No such file or directory\n",
            "tar: Error is not recoverable: exiting now\n"
          ]
        }
      ],
      "source": [
        "!tar -xvf  'dev-clean.tar'"
      ]
    },
    {
      "cell_type": "code",
      "execution_count": null,
      "metadata": {
        "colab": {
          "base_uri": "https://localhost:8080/",
          "height": 363
        },
        "id": "l4vknqiGF017",
        "outputId": "39ad0808-11cd-4af5-c06a-f25d1b99d73b"
      },
      "outputs": [
        {
          "output_type": "execute_result",
          "data": {
            "text/plain": [
              "  speaker_id                                           features  gender\n",
              "0         84  [[-623.77136, -623.77136, -623.77136, -623.771...       0\n",
              "1         84  [[-497.26437, -491.91092, -490.75168, -491.405...       0\n",
              "2         84  [[-482.51202, -476.86847, -485.12872, -441.094...       0\n",
              "3         84  [[-471.37903, -475.16782, -495.63174, -508.180...       0\n",
              "4         84  [[-481.54187, -485.15445, -491.29977, -497.341...       0\n",
              "5         84  [[-626.6187, -626.6187, -626.6187, -626.6187, ...       0\n",
              "6         84  [[-604.83466, -604.83466, -604.83466, -604.834...       0\n",
              "7         84  [[-543.0951, -543.0951, -543.0951, -543.0951, ...       0\n",
              "8         84  [[-497.73947, -492.46146, -493.03317, -490.114...       0\n",
              "9         84  [[-471.7338, -474.87045, -479.41553, -478.3105...       0"
            ],
            "text/html": [
              "\n",
              "  <div id=\"df-5547d47f-f6d6-4867-be12-6bb46f2a6ad8\">\n",
              "    <div class=\"colab-df-container\">\n",
              "      <div>\n",
              "<style scoped>\n",
              "    .dataframe tbody tr th:only-of-type {\n",
              "        vertical-align: middle;\n",
              "    }\n",
              "\n",
              "    .dataframe tbody tr th {\n",
              "        vertical-align: top;\n",
              "    }\n",
              "\n",
              "    .dataframe thead th {\n",
              "        text-align: right;\n",
              "    }\n",
              "</style>\n",
              "<table border=\"1\" class=\"dataframe\">\n",
              "  <thead>\n",
              "    <tr style=\"text-align: right;\">\n",
              "      <th></th>\n",
              "      <th>speaker_id</th>\n",
              "      <th>features</th>\n",
              "      <th>gender</th>\n",
              "    </tr>\n",
              "  </thead>\n",
              "  <tbody>\n",
              "    <tr>\n",
              "      <th>0</th>\n",
              "      <td>84</td>\n",
              "      <td>[[-623.77136, -623.77136, -623.77136, -623.771...</td>\n",
              "      <td>0</td>\n",
              "    </tr>\n",
              "    <tr>\n",
              "      <th>1</th>\n",
              "      <td>84</td>\n",
              "      <td>[[-497.26437, -491.91092, -490.75168, -491.405...</td>\n",
              "      <td>0</td>\n",
              "    </tr>\n",
              "    <tr>\n",
              "      <th>2</th>\n",
              "      <td>84</td>\n",
              "      <td>[[-482.51202, -476.86847, -485.12872, -441.094...</td>\n",
              "      <td>0</td>\n",
              "    </tr>\n",
              "    <tr>\n",
              "      <th>3</th>\n",
              "      <td>84</td>\n",
              "      <td>[[-471.37903, -475.16782, -495.63174, -508.180...</td>\n",
              "      <td>0</td>\n",
              "    </tr>\n",
              "    <tr>\n",
              "      <th>4</th>\n",
              "      <td>84</td>\n",
              "      <td>[[-481.54187, -485.15445, -491.29977, -497.341...</td>\n",
              "      <td>0</td>\n",
              "    </tr>\n",
              "    <tr>\n",
              "      <th>5</th>\n",
              "      <td>84</td>\n",
              "      <td>[[-626.6187, -626.6187, -626.6187, -626.6187, ...</td>\n",
              "      <td>0</td>\n",
              "    </tr>\n",
              "    <tr>\n",
              "      <th>6</th>\n",
              "      <td>84</td>\n",
              "      <td>[[-604.83466, -604.83466, -604.83466, -604.834...</td>\n",
              "      <td>0</td>\n",
              "    </tr>\n",
              "    <tr>\n",
              "      <th>7</th>\n",
              "      <td>84</td>\n",
              "      <td>[[-543.0951, -543.0951, -543.0951, -543.0951, ...</td>\n",
              "      <td>0</td>\n",
              "    </tr>\n",
              "    <tr>\n",
              "      <th>8</th>\n",
              "      <td>84</td>\n",
              "      <td>[[-497.73947, -492.46146, -493.03317, -490.114...</td>\n",
              "      <td>0</td>\n",
              "    </tr>\n",
              "    <tr>\n",
              "      <th>9</th>\n",
              "      <td>84</td>\n",
              "      <td>[[-471.7338, -474.87045, -479.41553, -478.3105...</td>\n",
              "      <td>0</td>\n",
              "    </tr>\n",
              "  </tbody>\n",
              "</table>\n",
              "</div>\n",
              "      <button class=\"colab-df-convert\" onclick=\"convertToInteractive('df-5547d47f-f6d6-4867-be12-6bb46f2a6ad8')\"\n",
              "              title=\"Convert this dataframe to an interactive table.\"\n",
              "              style=\"display:none;\">\n",
              "        \n",
              "  <svg xmlns=\"http://www.w3.org/2000/svg\" height=\"24px\"viewBox=\"0 0 24 24\"\n",
              "       width=\"24px\">\n",
              "    <path d=\"M0 0h24v24H0V0z\" fill=\"none\"/>\n",
              "    <path d=\"M18.56 5.44l.94 2.06.94-2.06 2.06-.94-2.06-.94-.94-2.06-.94 2.06-2.06.94zm-11 1L8.5 8.5l.94-2.06 2.06-.94-2.06-.94L8.5 2.5l-.94 2.06-2.06.94zm10 10l.94 2.06.94-2.06 2.06-.94-2.06-.94-.94-2.06-.94 2.06-2.06.94z\"/><path d=\"M17.41 7.96l-1.37-1.37c-.4-.4-.92-.59-1.43-.59-.52 0-1.04.2-1.43.59L10.3 9.45l-7.72 7.72c-.78.78-.78 2.05 0 2.83L4 21.41c.39.39.9.59 1.41.59.51 0 1.02-.2 1.41-.59l7.78-7.78 2.81-2.81c.8-.78.8-2.07 0-2.86zM5.41 20L4 18.59l7.72-7.72 1.47 1.35L5.41 20z\"/>\n",
              "  </svg>\n",
              "      </button>\n",
              "      \n",
              "  <style>\n",
              "    .colab-df-container {\n",
              "      display:flex;\n",
              "      flex-wrap:wrap;\n",
              "      gap: 12px;\n",
              "    }\n",
              "\n",
              "    .colab-df-convert {\n",
              "      background-color: #E8F0FE;\n",
              "      border: none;\n",
              "      border-radius: 50%;\n",
              "      cursor: pointer;\n",
              "      display: none;\n",
              "      fill: #1967D2;\n",
              "      height: 32px;\n",
              "      padding: 0 0 0 0;\n",
              "      width: 32px;\n",
              "    }\n",
              "\n",
              "    .colab-df-convert:hover {\n",
              "      background-color: #E2EBFA;\n",
              "      box-shadow: 0px 1px 2px rgba(60, 64, 67, 0.3), 0px 1px 3px 1px rgba(60, 64, 67, 0.15);\n",
              "      fill: #174EA6;\n",
              "    }\n",
              "\n",
              "    [theme=dark] .colab-df-convert {\n",
              "      background-color: #3B4455;\n",
              "      fill: #D2E3FC;\n",
              "    }\n",
              "\n",
              "    [theme=dark] .colab-df-convert:hover {\n",
              "      background-color: #434B5C;\n",
              "      box-shadow: 0px 1px 3px 1px rgba(0, 0, 0, 0.15);\n",
              "      filter: drop-shadow(0px 1px 2px rgba(0, 0, 0, 0.3));\n",
              "      fill: #FFFFFF;\n",
              "    }\n",
              "  </style>\n",
              "\n",
              "      <script>\n",
              "        const buttonEl =\n",
              "          document.querySelector('#df-5547d47f-f6d6-4867-be12-6bb46f2a6ad8 button.colab-df-convert');\n",
              "        buttonEl.style.display =\n",
              "          google.colab.kernel.accessAllowed ? 'block' : 'none';\n",
              "\n",
              "        async function convertToInteractive(key) {\n",
              "          const element = document.querySelector('#df-5547d47f-f6d6-4867-be12-6bb46f2a6ad8');\n",
              "          const dataTable =\n",
              "            await google.colab.kernel.invokeFunction('convertToInteractive',\n",
              "                                                     [key], {});\n",
              "          if (!dataTable) return;\n",
              "\n",
              "          const docLinkHtml = 'Like what you see? Visit the ' +\n",
              "            '<a target=\"_blank\" href=https://colab.research.google.com/notebooks/data_table.ipynb>data table notebook</a>'\n",
              "            + ' to learn more about interactive tables.';\n",
              "          element.innerHTML = '';\n",
              "          dataTable['output_type'] = 'display_data';\n",
              "          await google.colab.output.renderOutput(dataTable, element);\n",
              "          const docLink = document.createElement('div');\n",
              "          docLink.innerHTML = docLinkHtml;\n",
              "          element.appendChild(docLink);\n",
              "        }\n",
              "      </script>\n",
              "    </div>\n",
              "  </div>\n",
              "  "
            ]
          },
          "metadata": {},
          "execution_count": 50
        }
      ],
      "source": [
        "# 2703 audio files\n",
        "\n",
        "root = \"LibriSpeech/dev-clean/\"\n",
        "df = pd.DataFrame(columns=['speaker_id', 'features'])              \n",
        "\n",
        "i = 0\n",
        "max_pad_len = 1021\n",
        "\n",
        "# loading the features in the first dataframe\n",
        "for path, subdirs, files in os.walk(root):\n",
        "    for name in files:\n",
        "        speaker_id = path.split('/')[2]\n",
        "        if name.endswith(\".flac\"):\n",
        "            sound, sample_rate = librosa.load(os.path.join(path, name), sr=16000)\n",
        "            data = extract_features(sound)\n",
        "            pad_width = max_pad_len - data.shape[1]\n",
        "            data = np.pad(data, pad_width=((0,0), (0, pad_width)), mode='constant')\n",
        "            df.loc[i] = [speaker_id] + [data]\n",
        "            i += 1\n",
        "            \n",
        "# loading the labels in the second dataframe\n",
        "root = \"LibriSpeech/\"\n",
        "labels = pd.DataFrame(columns=['speaker_id', 'gender'])\n",
        "\n",
        "f = open(\"LibriSpeech/SPEAKERS.TXT\", \"r\", encoding=\"UTF8\").readlines()\n",
        "i = 0\n",
        "for idx, line in enumerate(f):\n",
        "    if idx > 11:\n",
        "        parsed = re.split('\\s+',line)\n",
        "        if parsed[4] == 'dev-clean':\n",
        "            # speaker_id and label (M/F)\n",
        "            labels.loc[i] = parsed[0], parsed[2] \n",
        "            i += 1\n",
        "\n",
        "# merging the two dataframes.\n",
        "dataset = pd.merge(df, labels, on='speaker_id')\n",
        "\n",
        "# Encoding\n",
        "dataset[\"gender\"].replace({\"M\": 1, \"F\": 0}, inplace=True)\n",
        "dataset.head(5)"
      ]
    },
    {
      "cell_type": "code",
      "execution_count": null,
      "metadata": {
        "colab": {
          "base_uri": "https://localhost:8080/"
        },
        "id": "2Ly2Wo2uF018",
        "outputId": "1972a34d-7401-4b97-c2f5-640acaf23104"
      },
      "outputs": [
        {
          "output_type": "execute_result",
          "data": {
            "text/plain": [
              "0    1374\n",
              "1    1329\n",
              "Name: gender, dtype: int64"
            ]
          },
          "metadata": {},
          "execution_count": 51
        }
      ],
      "source": [
        "dataset['gender'].value_counts()"
      ]
    },
    {
      "cell_type": "code",
      "execution_count": null,
      "metadata": {
        "id": "XTtcFNYYF019"
      },
      "outputs": [],
      "source": [
        "train_test_ratio = 0.80\n",
        "n_sounds = 2703\n",
        "\n",
        "def split_train_test(train_test_ratio, n_sounds):\n",
        "    \n",
        "    train = pd.DataFrame(columns=['speaker_id', 'features' , 'gender'])\n",
        "    test = pd.DataFrame(columns=['speaker_id', 'features', 'gender'])\n",
        "    \n",
        "    train_elems = int(np.floor(n_sounds*train_test_ratio))\n",
        "    test_elems = n_sounds - train_elems\n",
        "\n",
        "    male_train = int(np.floor(dataset['gender'].value_counts()[0]* train_test_ratio))\n",
        "    male_test = int(np.ceil(dataset['gender'].value_counts()[0]* (1-train_test_ratio)))\n",
        "    train_sizes = [male_train, train_elems]\n",
        "    test_sizes = [male_test + male_train, n_sounds]\n",
        "    \n",
        "    for gender in range(2):  \n",
        "        if gender == 0:\n",
        "            # MALES\n",
        "            gender_set = dataset[dataset[\"gender\"] == gender]   \n",
        "        elif gender == 1:\n",
        "            # FEMALES\n",
        "            gender_set = dataset[dataset[\"gender\"] == gender]   \n",
        "\n",
        "        ordered_gender_set = gender_set['speaker_id'].value_counts()\n",
        "        i = 0\n",
        "        while (train.shape[0] < train_sizes[gender]):\n",
        "            train = train.append(gender_set[gender_set[\"speaker_id\"] == ordered_gender_set.index[i]])\n",
        "            i += 1\n",
        "        while (test.shape[0] + train.shape[0] != test_sizes[gender]): \n",
        "            test = test.append(gender_set[gender_set[\"speaker_id\"] == ordered_gender_set.index[i]])\n",
        "            i += 1\n",
        "\n",
        "    return train, test\n",
        "   \n",
        "train, test = split_train_test(train_test_ratio, n_sounds)"
      ]
    },
    {
      "cell_type": "markdown",
      "metadata": {
        "id": "ttwv-07DF01-"
      },
      "source": [
        "# ML Algorithms"
      ]
    },
    {
      "cell_type": "code",
      "execution_count": null,
      "metadata": {
        "colab": {
          "base_uri": "https://localhost:8080/"
        },
        "id": "Hu5sxs_rF01_",
        "outputId": "385edd79-fcf3-4cd2-9185-4f05829de3ca"
      },
      "outputs": [
        {
          "output_type": "execute_result",
          "data": {
            "text/plain": [
              "(2176, 40)"
            ]
          },
          "metadata": {},
          "execution_count": 86
        }
      ],
      "source": [
        "#Features and Labels\n",
        "X_train = np.mean(np.array(train.features.tolist()), axis = 2)\n",
        "X_test = np.mean(np.array(test.features.tolist()), axis = 2)\n",
        "y_train = np.array(train.gender.tolist())\n",
        "y_test = np.array(test.gender.tolist())\n",
        "\n",
        "le = LabelEncoder()\n",
        "yy_train = to_categorical(le.fit_transform(y_train)) \n",
        "yy_test = to_categorical(le.fit_transform(y_test)) \n",
        "\n",
        "X_train.shape, y_train.shape, X_test.shape, y_test.shape"
      ]
    },
    {
      "cell_type": "markdown",
      "metadata": {
        "id": "9-3tVOR_F01_"
      },
      "source": [
        "## KNN"
      ]
    },
    {
      "cell_type": "code",
      "execution_count": null,
      "metadata": {
        "colab": {
          "base_uri": "https://localhost:8080/"
        },
        "id": "F8QlTlSLF01_",
        "outputId": "ce9ebb51-bc3c-4f64-a86d-4442dca8290f"
      },
      "outputs": [
        {
          "output_type": "stream",
          "name": "stdout",
          "text": [
            "Confusion Matrix:\n",
            "[[185  65]\n",
            " [ 61 216]]\n",
            "\n",
            "Accuracy:  0.7609108159392789\n",
            "\n",
            "Precision:  0.7686832740213523\n",
            "\n",
            "Recall:  0.779783393501805\n"
          ]
        }
      ],
      "source": [
        "knn = neighbors.KNeighborsClassifier(19, weights='uniform')\n",
        "knn.fit(X_train, y_train)\n",
        "y_pred = knn.predict(X_test)\n",
        "print(\"Confusion Matrix:\")\n",
        "print(confusion_matrix(y_test, y_pred))\n",
        "accuracy_knn = accuracy_score(y_test, y_pred)\n",
        "print(\"\\nAccuracy: \", accuracy_knn)\n",
        "print(\"\\nPrecision: \", precision_score(y_test, y_pred))\n",
        "print(\"\\nRecall: \", recall_score(y_test, y_pred))"
      ]
    },
    {
      "cell_type": "markdown",
      "metadata": {
        "id": "_T_IB8JcF02A"
      },
      "source": [
        "## Naive Bayes"
      ]
    },
    {
      "cell_type": "code",
      "execution_count": null,
      "metadata": {
        "colab": {
          "base_uri": "https://localhost:8080/"
        },
        "id": "g0n8StYqF02I",
        "outputId": "21de7a8f-7b9b-46f3-f2f2-8d5c1e403011"
      },
      "outputs": [
        {
          "output_type": "stream",
          "name": "stdout",
          "text": [
            "Confusion Matrix:\n",
            "[[231  19]\n",
            " [ 76 201]]\n",
            "\n",
            "Accuracy:  0.8197343453510436\n",
            "\n",
            "Precision:  0.9136363636363637\n",
            "\n",
            "Recall:  0.7256317689530686\n"
          ]
        }
      ],
      "source": [
        "nb = naive_bayes.GaussianNB();\n",
        "nb.fit(X_train, y_train)\n",
        "y_pred = nb.predict(X_test)\n",
        "print(\"Confusion Matrix:\")\n",
        "print(confusion_matrix(y_test, y_pred))\n",
        "accuracy_nb = accuracy_score(y_test, y_pred)\n",
        "print(\"\\nAccuracy: \", accuracy_nb)\n",
        "print(\"\\nPrecision: \", precision_score(y_test, y_pred))\n",
        "print(\"\\nRecall: \", recall_score(y_test, y_pred))"
      ]
    },
    {
      "cell_type": "markdown",
      "source": [
        "## Random Forest"
      ],
      "metadata": {
        "id": "CyyPDtmjALkX"
      }
    },
    {
      "cell_type": "code",
      "source": [
        "from sklearn.ensemble import RandomForestClassifier\n",
        "rf = RandomForestClassifier()\n",
        "rf.fit(X_train, y_train)\n",
        "y_pred = rf.predict(X_test)\n",
        "print(\"Confusion Matrix:\")\n",
        "print(confusion_matrix(y_test, y_pred))\n",
        "accuracy_rf = accuracy_score(y_test, y_pred)\n",
        "print(\"\\nAccuracy: \", accuracy_rf)\n",
        "print(\"\\nPrecision: \", precision_score(y_test, y_pred))\n",
        "print(\"\\nRecall: \", recall_score(y_test, y_pred))\n"
      ],
      "metadata": {
        "colab": {
          "base_uri": "https://localhost:8080/"
        },
        "id": "OEoTlyALASRz",
        "outputId": "8552eafc-2c6d-4d55-f169-be3526b24174"
      },
      "execution_count": null,
      "outputs": [
        {
          "output_type": "stream",
          "name": "stdout",
          "text": [
            "Confusion Matrix:\n",
            "[[246   4]\n",
            " [ 62 215]]\n",
            "\n",
            "Accuracy:  0.8747628083491461\n",
            "\n",
            "Precision:  0.9817351598173516\n",
            "\n",
            "Recall:  0.776173285198556\n"
          ]
        }
      ]
    },
    {
      "cell_type": "markdown",
      "metadata": {
        "id": "qimMjZhQF02I"
      },
      "source": [
        "## Support Vector Machine"
      ]
    },
    {
      "cell_type": "code",
      "execution_count": null,
      "metadata": {
        "colab": {
          "base_uri": "https://localhost:8080/"
        },
        "id": "1gSQB0VcF02J",
        "outputId": "cf90eaa6-eee8-4262-aa19-da8923c7fb40"
      },
      "outputs": [
        {
          "output_type": "stream",
          "name": "stdout",
          "text": [
            "Confusion Matrix:\n",
            "[[213  37]\n",
            " [ 52 225]]\n",
            "\n",
            "Accuracy:  0.8311195445920304\n",
            "\n",
            "Precision:  0.8587786259541985\n",
            "\n",
            "Recall:  0.8122743682310469\n"
          ]
        }
      ],
      "source": [
        "from sklearn import svm\n",
        "svc = svm.SVC(kernel='poly', gamma='auto')\n",
        "svc.fit(X_train, y_train)\n",
        "y_pred = svc.predict(X_test)\n",
        "print(\"Confusion Matrix:\")\n",
        "print(confusion_matrix(y_test, y_pred))\n",
        "accuracy_svm = accuracy_score(y_test, y_pred)\n",
        "print(\"\\nAccuracy: \", accuracy_svm)\n",
        "print(\"\\nPrecision: \", precision_score(y_test, y_pred))\n",
        "print(\"\\nRecall: \", recall_score(y_test, y_pred))"
      ]
    },
    {
      "cell_type": "markdown",
      "metadata": {
        "id": "Z08zj3GfF02K"
      },
      "source": [
        "## Logistic Regression"
      ]
    },
    {
      "cell_type": "code",
      "execution_count": null,
      "metadata": {
        "colab": {
          "base_uri": "https://localhost:8080/"
        },
        "id": "WFS-0xNwF02L",
        "outputId": "535a8ca1-8f39-43c5-bc97-20af7d1644ba"
      },
      "outputs": [
        {
          "output_type": "stream",
          "name": "stdout",
          "text": [
            "Confusion Matrix:\n",
            "[[197  53]\n",
            " [ 30 247]]\n",
            "\n",
            "Accuracy:  0.8425047438330171\n",
            "\n",
            "Precision:  0.8233333333333334\n",
            "\n",
            "Recall:  0.8916967509025271\n"
          ]
        }
      ],
      "source": [
        "log = linear_model.LogisticRegression(C=1e5, solver='saga', max_iter=100, verbose=0)\n",
        "log.fit(X_train, y_train)\n",
        "y_pred = log.predict(X_test)\n",
        "print(\"Confusion Matrix:\")\n",
        "print(confusion_matrix(y_test, y_pred))\n",
        "accuracy_log = accuracy_score(y_test, y_pred)\n",
        "print(\"\\nAccuracy: \", accuracy_log)\n",
        "print(\"\\nPrecision: \", precision_score(y_test, y_pred))\n",
        "print(\"\\nRecall: \", recall_score(y_test, y_pred))"
      ]
    },
    {
      "cell_type": "markdown",
      "metadata": {
        "id": "Sn-cg_rkF02L"
      },
      "source": [
        "## Neural Network"
      ]
    },
    {
      "cell_type": "code",
      "execution_count": null,
      "metadata": {
        "colab": {
          "base_uri": "https://localhost:8080/"
        },
        "id": "3RwZCWezF02M",
        "outputId": "369f3d65-b052-4d62-f767-3847bd464124"
      },
      "outputs": [
        {
          "output_type": "stream",
          "name": "stdout",
          "text": [
            "Confusion Matrix:\n",
            "[[231  19]\n",
            " [ 53 224]]\n",
            "\n",
            "Accuracy:  0.8633776091081594\n",
            "\n",
            "Precision:  0.9218106995884774\n",
            "\n",
            "Recall:  0.8086642599277978\n"
          ]
        }
      ],
      "source": [
        "mlp = MLPClassifier(random_state=42, max_iter=300)\n",
        "mlp.fit(X_train, y_train)\n",
        "y_pred = mlp.predict(X_test)\n",
        "print(\"Confusion Matrix:\")\n",
        "print(confusion_matrix(y_test, y_pred))\n",
        "accuracy_mlp = accuracy_score(y_test, y_pred)\n",
        "print(\"\\nAccuracy: \", accuracy_mlp)\n",
        "print(\"\\nPrecision: \", precision_score(y_test, y_pred))\n",
        "print(\"\\nRecall: \", recall_score(y_test, y_pred))"
      ]
    },
    {
      "cell_type": "markdown",
      "metadata": {
        "id": "hqpkLBH9F02M"
      },
      "source": [
        "## Convolutional Neural Network"
      ]
    },
    {
      "cell_type": "code",
      "source": [
        "X_train = np.array(train.features.tolist())\n",
        "X_test = np.array(test.features.tolist())\n",
        "y_train = np.array(train.gender.tolist())\n",
        "y_test = np.array(test.gender.tolist())\n",
        "\n",
        "le = LabelEncoder()\n",
        "yy_train = to_categorical(le.fit_transform(y_train)) \n",
        "yy_test = to_categorical(le.fit_transform(y_test))"
      ],
      "metadata": {
        "id": "Rt9LhvqWMk53"
      },
      "execution_count": null,
      "outputs": []
    },
    {
      "cell_type": "code",
      "source": [
        "X_train = X_train.reshape(X_train.shape[0], 40, 1021, 1)\n",
        "X_test = X_test.reshape(X_test.shape[0], 40, 1021, 1)\n",
        "\n",
        "print(X_train.shape, X_test.shape)\n",
        "\n",
        "num_labels = yy_train.shape[1]\n",
        "filter_size = 2\n",
        "\n",
        "# Construct model \n",
        "model = Sequential()\n",
        "model.add(Conv2D(filters=64, kernel_size=3, input_shape=(num_rows, num_columns, num_channels), activation='relu'))\n",
        "\n",
        "model.add(Conv2D(filters=64, kernel_size=3, activation='relu'))\n",
        "model.add(MaxPooling2D(pool_size=(2, 1)))\n",
        "\n",
        "model.add(Conv2D(filters=128, kernel_size=3, activation='relu'))\n",
        "\n",
        "model.add(Conv2D(filters=128, kernel_size=3, activation='relu'))\n",
        "model.add(MaxPooling2D(pool_size=(2, 2)))\n",
        "\n",
        "model.add(Conv2D(filters=256, kernel_size=3, activation='relu'))\n",
        "model.add(MaxPooling2D(pool_size=(1, 26)))\n",
        "\n",
        "model.add(tf.keras.layers.Flatten())\n",
        "model.add(tf.keras.layers.Dense(512, activation='relu'))\n",
        "model.add(tf.keras.layers.Dropout(0.2))\n",
        "\n",
        "model.add(tf.keras.layers.Dense(512, activation='relu'))\n",
        "model.add(tf.keras.layers.Dropout(0.3))\n",
        "\n",
        "model.add(tf.keras.layers.Dense(512, activation='relu'))\n",
        "model.add(tf.keras.layers.Dropout(0.4))\n",
        "\n",
        "model.add(tf.keras.layers.Dense(512, activation='relu'))\n",
        "model.add(tf.keras.layers.Dropout(0.5))\n",
        "\n",
        "model.add(Dense(num_labels, activation='softmax'))\n",
        "\n",
        "model.summary()\n",
        "\n",
        "model.compile(loss='categorical_crossentropy', metrics=['accuracy'], optimizer='adam')"
      ],
      "metadata": {
        "id": "rjjo4q6JvT70",
        "colab": {
          "base_uri": "https://localhost:8080/"
        },
        "outputId": "d60231f4-6596-41e6-d628-873762fcab86"
      },
      "execution_count": null,
      "outputs": [
        {
          "output_type": "stream",
          "name": "stdout",
          "text": [
            "(2176, 40, 1021, 1) (527, 40, 1021, 1)\n",
            "Model: \"sequential\"\n",
            "_________________________________________________________________\n",
            " Layer (type)                Output Shape              Param #   \n",
            "=================================================================\n",
            " conv2d (Conv2D)             (None, 38, 1019, 64)      640       \n",
            "                                                                 \n",
            " conv2d_1 (Conv2D)           (None, 36, 1017, 64)      36928     \n",
            "                                                                 \n",
            " max_pooling2d (MaxPooling2D  (None, 18, 1017, 64)     0         \n",
            " )                                                               \n",
            "                                                                 \n",
            " conv2d_2 (Conv2D)           (None, 16, 1015, 128)     73856     \n",
            "                                                                 \n",
            " conv2d_3 (Conv2D)           (None, 14, 1013, 128)     147584    \n",
            "                                                                 \n",
            " max_pooling2d_1 (MaxPooling  (None, 7, 506, 128)      0         \n",
            " 2D)                                                             \n",
            "                                                                 \n",
            " conv2d_4 (Conv2D)           (None, 5, 504, 256)       295168    \n",
            "                                                                 \n",
            " max_pooling2d_2 (MaxPooling  (None, 5, 19, 256)       0         \n",
            " 2D)                                                             \n",
            "                                                                 \n",
            " flatten (Flatten)           (None, 24320)             0         \n",
            "                                                                 \n",
            " dense (Dense)               (None, 512)               12452352  \n",
            "                                                                 \n",
            " dropout (Dropout)           (None, 512)               0         \n",
            "                                                                 \n",
            " dense_1 (Dense)             (None, 512)               262656    \n",
            "                                                                 \n",
            " dropout_1 (Dropout)         (None, 512)               0         \n",
            "                                                                 \n",
            " dense_2 (Dense)             (None, 512)               262656    \n",
            "                                                                 \n",
            " dropout_2 (Dropout)         (None, 512)               0         \n",
            "                                                                 \n",
            " dense_3 (Dense)             (None, 512)               262656    \n",
            "                                                                 \n",
            " dropout_3 (Dropout)         (None, 512)               0         \n",
            "                                                                 \n",
            " dense_4 (Dense)             (None, 2)                 1026      \n",
            "                                                                 \n",
            "=================================================================\n",
            "Total params: 13,795,522\n",
            "Trainable params: 13,795,522\n",
            "Non-trainable params: 0\n",
            "_________________________________________________________________\n"
          ]
        }
      ]
    },
    {
      "cell_type": "code",
      "execution_count": null,
      "metadata": {
        "colab": {
          "base_uri": "https://localhost:8080/"
        },
        "id": "cCJEjVbGF02O",
        "outputId": "c93cd1d1-11e9-4714-d121-f30524c7383e"
      },
      "outputs": [
        {
          "output_type": "stream",
          "name": "stdout",
          "text": [
            "Epoch 1/20\n",
            "22/22 [==============================] - 40s 1s/step - loss: 0.7410 - accuracy: 0.5827 - val_loss: 0.4420 - val_accuracy: 0.8065\n",
            "Epoch 2/20\n",
            "22/22 [==============================] - 18s 827ms/step - loss: 0.3610 - accuracy: 0.8745 - val_loss: 0.2455 - val_accuracy: 0.8994\n",
            "Epoch 3/20\n",
            "22/22 [==============================] - 18s 825ms/step - loss: 0.2222 - accuracy: 0.9242 - val_loss: 0.2063 - val_accuracy: 0.9089\n",
            "Epoch 4/20\n",
            "22/22 [==============================] - 18s 828ms/step - loss: 0.1378 - accuracy: 0.9453 - val_loss: 0.2718 - val_accuracy: 0.9032\n",
            "Epoch 5/20\n",
            "22/22 [==============================] - 18s 830ms/step - loss: 0.0969 - accuracy: 0.9642 - val_loss: 0.2871 - val_accuracy: 0.8937\n",
            "Epoch 6/20\n",
            "22/22 [==============================] - 18s 831ms/step - loss: 0.0768 - accuracy: 0.9710 - val_loss: 0.2448 - val_accuracy: 0.9108\n",
            "Epoch 7/20\n",
            "22/22 [==============================] - 18s 832ms/step - loss: 0.0448 - accuracy: 0.9844 - val_loss: 0.4448 - val_accuracy: 0.8444\n",
            "Epoch 8/20\n",
            "22/22 [==============================] - 18s 828ms/step - loss: 0.0260 - accuracy: 0.9926 - val_loss: 0.3772 - val_accuracy: 0.8956\n",
            "Epoch 9/20\n",
            "22/22 [==============================] - 18s 829ms/step - loss: 0.0070 - accuracy: 0.9982 - val_loss: 1.0963 - val_accuracy: 0.8956\n",
            "Epoch 10/20\n",
            "22/22 [==============================] - 18s 827ms/step - loss: 0.1271 - accuracy: 0.9724 - val_loss: 0.2818 - val_accuracy: 0.8767\n",
            "Epoch 11/20\n",
            "22/22 [==============================] - 18s 828ms/step - loss: 0.0595 - accuracy: 0.9798 - val_loss: 0.2753 - val_accuracy: 0.9127\n",
            "Epoch 12/20\n",
            "22/22 [==============================] - 18s 827ms/step - loss: 0.0170 - accuracy: 0.9940 - val_loss: 0.5386 - val_accuracy: 0.9203\n",
            "Epoch 13/20\n",
            "22/22 [==============================] - 18s 828ms/step - loss: 0.0151 - accuracy: 0.9936 - val_loss: 0.2969 - val_accuracy: 0.9317\n",
            "Epoch 13: early stopping\n"
          ]
        }
      ],
      "source": [
        "num_epochs = 20\n",
        "num_batch_size = 100\n",
        "\n",
        "es = tf.keras.callbacks.EarlyStopping(monitor='val_loss', mode='min', verbose=1, patience=10)\n",
        "# In min mode, training will stop when the val_loss has stopped decreasing\n",
        "# Patience is the number of epochs without improvement after which training will be stopped.\n",
        "\n",
        "history = model.fit(X_train, yy_train, epochs=num_epochs, batch_size=num_batch_size, validation_data=(X_test, yy_test), callbacks=[es])"
      ]
    },
    {
      "cell_type": "code",
      "execution_count": null,
      "metadata": {
        "id": "OkjkHf3gF02O",
        "outputId": "6e490f28-7020-4ec9-bc69-a4a11920e702",
        "colab": {
          "base_uri": "https://localhost:8080/"
        }
      },
      "outputs": [
        {
          "output_type": "stream",
          "name": "stdout",
          "text": [
            "Accuracy: 93.1689%\n"
          ]
        }
      ],
      "source": [
        "score = model.evaluate(X_test, yy_test, verbose=0)\n",
        "accuracy_cnn = 100*score[1]\n",
        "print(\"Accuracy: %.2f%%\" % accuracy_cnn)"
      ]
    },
    {
      "cell_type": "code",
      "source": [
        "#Predict\n",
        "y_prediction = model.predict(X_test)\n",
        "#Create confusion matrix and normalizes it over predicted (columns)\n",
        "matrix = metrics.confusion_matrix(yy_test.argmax(axis=1), y_prediction.argmax(axis=1))\n",
        "print(matrix)"
      ],
      "metadata": {
        "colab": {
          "base_uri": "https://localhost:8080/"
        },
        "id": "SdFgZ9FcCMRW",
        "outputId": "8646937b-a1ce-4d10-80dc-99662a9e93e0"
      },
      "execution_count": null,
      "outputs": [
        {
          "output_type": "stream",
          "name": "stdout",
          "text": [
            "[[220  30]\n",
            " [  6 271]]\n"
          ]
        }
      ]
    },
    {
      "cell_type": "markdown",
      "metadata": {
        "id": "1PkJ4266F02P"
      },
      "source": [
        "# Results"
      ]
    },
    {
      "cell_type": "code",
      "execution_count": null,
      "metadata": {
        "id": "PLrTCE18F02P",
        "outputId": "811affca-5e71-4f14-f9af-9fd093f79266",
        "colab": {
          "base_uri": "https://localhost:8080/"
        }
      },
      "outputs": [
        {
          "output_type": "stream",
          "name": "stdout",
          "text": [
            "\n",
            "K-Nearest Neighbors accuracy: 77.2296%\n",
            "\n",
            "Naive-Bayes accuracy: 81.9734%\n",
            "\n",
            "Random Forest accuracy: 87.4763%\n",
            "\n",
            "Support Vector Machine accuracy: 83.1120%\n",
            "\n",
            "Logistic Regression accuracy: 84.2505%\n",
            "\n",
            "Multi-layer Perceptron accuracy: 86.7173%\n",
            "\n",
            "Convolutional Neural Network accuracy: 93.1689%\n"
          ]
        }
      ],
      "source": [
        "print(\"\\nK-Nearest Neighbors accuracy: %.2f%%\" % (accuracy_knn*100))\n",
        "print(\"\\nNaive-Bayes accuracy: %.2f%%\" % (accuracy_nb*100))\n",
        "print(\"\\nRandom Forest accuracy: %.2f%%\" % (accuracy_rf*100))\n",
        "print(\"\\nSupport Vector Machine accuracy: %.2f%%\" % (accuracy_svm*100))\n",
        "print(\"\\nLogistic Regression accuracy: %.2f%%\" % (accuracy_log*100))\n",
        "print(\"\\nMulti-layer Perceptron accuracy: %.2f%%\" % (accuracy_mlp*100))\n",
        "print(\"\\nConvolutional Neural Network accuracy: %.2f%%\" % accuracy_cnn)"
      ]
    },
    {
      "cell_type": "markdown",
      "source": [
        "# -  Testing Inaspeechsegmenter"
      ],
      "metadata": {
        "id": "qO3Cerug2DtO"
      }
    },
    {
      "cell_type": "markdown",
      "source": [
        "*Creating Folders to convert .flac to .mp3 format*"
      ],
      "metadata": {
        "id": "5lyHYMvr2Tbu"
      }
    },
    {
      "cell_type": "code",
      "source": [
        "import os\n",
        "\n",
        "# Directory\n",
        "directory = \"Mp3 Audio Files\"\n",
        "\n",
        "os.mkdir(directory)\n",
        "\n",
        "mp3_path = \"/content/Mp3 Audio Files\"\n",
        "\n",
        "for folder in ('84','1462','1673','1919','1988','2035','2078','2086','2428','2803','2902','3000'):\n",
        "  path = os.path.join(mp3_path, folder)\n",
        "  os.mkdir(path)"
      ],
      "metadata": {
        "id": "UNA0iZwI7snN"
      },
      "execution_count": null,
      "outputs": []
    },
    {
      "cell_type": "code",
      "source": [
        "#Library to Convert .flac files to .mp3\n",
        "pip install pydub"
      ],
      "metadata": {
        "id": "KPcVwT2V7Ye4"
      },
      "execution_count": null,
      "outputs": []
    },
    {
      "cell_type": "markdown",
      "source": [
        "*Converting .flac to .mp3 and saving it in respective folders*"
      ],
      "metadata": {
        "id": "263lA7hw3JaS"
      }
    },
    {
      "cell_type": "code",
      "source": [
        "from pydub import AudioSegment\n",
        "import regex as re\n",
        "\n",
        "root = \"LibriSpeech/\"\n",
        "speaker = {}\n",
        "f = open(\"LibriSpeech/SPEAKERS.TXT\", \"r\", encoding=\"UTF8\").readlines()\n",
        "for idx, line in enumerate(f):\n",
        "    if idx > 11:\n",
        "        parsed = re.split('\\s+',line)\n",
        "        if parsed[4] == 'dev-clean':\n",
        "          speaker[parsed[0]] = (parsed[2])\n",
        "\n",
        "root = \"LibriSpeech/dev-clean/\"\n",
        "mp3_path = \"/content/Mp3 Audio Files\"\n",
        "for path, subdirs, files in os.walk(root):\n",
        "    for name in files:\n",
        "        speaker_id = path.split('/')[2]\n",
        "        if speaker_id in ('84','1462','1673','1919','1988','2035','2078','2086','2428','2803','2902','3000'):\n",
        "          if name.endswith(\".flac\"):\n",
        "            audio = os.path.join(path, name)\n",
        "            flac_audio = AudioSegment.from_file(os.path.join(path, name), \"flac\")\n",
        "            mp3_name = re.sub(r'\\bflac\\b','mp3',name)\n",
        "            folder_path = os.path.join(mp3_path, speaker_id)\n",
        "            flac_audio.export(os.path.join(folder_path, mp3_name), format=\"mp3\")"
      ],
      "metadata": {
        "id": "73x4hzbvo1aG"
      },
      "execution_count": null,
      "outputs": []
    },
    {
      "cell_type": "markdown",
      "source": [
        "*Installing libraries for audio segmentation and Gender Prediction*"
      ],
      "metadata": {
        "id": "T1Az94EH3mqX"
      }
    },
    {
      "cell_type": "code",
      "source": [
        "pip install inaSpeechSegmenter\n",
        "!apt install ffmpeg"
      ],
      "metadata": {
        "id": "xlU4lthb-XqR"
      },
      "execution_count": null,
      "outputs": []
    },
    {
      "cell_type": "markdown",
      "source": [
        "*Processing Audio Files and Generating Results*"
      ],
      "metadata": {
        "id": "YvHZw46N4Ah1"
      }
    },
    {
      "cell_type": "code",
      "source": [
        "from inaSpeechSegmenter import Segmenter\n",
        "from inaSpeechSegmenter.export_funcs import seg2csv, seg2textgrid\n",
        "import warnings\n",
        "warnings.filterwarnings('ignore')\n",
        "import os\n",
        "import re\n",
        "dict_gender = {'84': 'Female','1462': 'Female', '1673': 'Female', '1919': 'Female', '1988': 'Female','2035': 'Female',\n",
        "               '2078': 'Male', '2086': 'Male','2428': 'Male', '2803': 'Male','2902': 'Male','3000': 'Male',}\n",
        "result_dict = dict()\n",
        "folder_list = []\n",
        "mp3_path = \"/content/Mp3 Audio Files\"\n",
        "seg = Segmenter()\n",
        "tot_accuracy = []\n",
        "for path, subdirs, files in os.walk(mp3_path):\n",
        "  speaker_id = path.split('/')\n",
        "  tot_female = 0\n",
        "  tot_male = 0\n",
        "  for name in files:\n",
        "    x = re.search(r\".+?(?=-)\",name)\n",
        "    folderid = x.group()\n",
        "    if folderid not in folder_list:\n",
        "      print('**********************************************************************')\n",
        "      print('Speaker ID :',folderid)\n",
        "      print('**********************************************************************')\n",
        "      folder_list.append(folderid)\n",
        "    segmentation = seg(os.path.join(path, name))\n",
        "    for voice_type,start_time,end_time in segmentation:\n",
        "      if voice_type == 'female':\n",
        "        female_total_time = round(end_time,2) - round(start_time,2)\n",
        "        tot_female = tot_female + female_total_time\n",
        "      elif voice_type == 'male':\n",
        "        male_total_time = round(end_time,2) - round(start_time,2)\n",
        "        tot_male = tot_male + male_total_time\n",
        "\n",
        "  tot_time = tot_female + tot_male\n",
        "  key = dict_gender[folderid]\n",
        "  if tot_time!=0:\n",
        "      if key == 'Female':\n",
        "        Accuracy = (tot_female/tot_time)*100\n",
        "        print('Voice Type:','Female')\n",
        "        print(\"Accuracy: %.2f%%\" % (round(Accuracy,2)))\n",
        "        tot_accuracy.append(Accuracy)\n",
        "      else:\n",
        "        Accuracy = (tot_male/tot_time)*100\n",
        "        print('Voice Type:','Male')\n",
        "        print(\"Accuracy: %.2f%%\" % (round(Accuracy,2)))\n",
        "        tot_accuracy.append(Accuracy)\n",
        "\n",
        "print('**********************************************************************')\n",
        "Average_Accuracy = sum(tot_accuracy)/len(tot_accuracy)\n",
        "print(\"The Average Accuracy: %.2f%%\" % (round(Average_Accuracy,2)))\n",
        "\n",
        "\n"
      ],
      "metadata": {
        "colab": {
          "base_uri": "https://localhost:8080/"
        },
        "outputId": "a79091ca-abcf-44a1-990f-2fdb7822058d",
        "id": "NGvY4GOm35dc"
      },
      "execution_count": null,
      "outputs": [
        {
          "output_type": "stream",
          "name": "stdout",
          "text": [
            "**********************************************************************\n",
            "Speaker ID : 84\n",
            "**********************************************************************\n",
            "Voice Type: Female\n",
            "Accuracy: 99.85%\n",
            "**********************************************************************\n",
            "Speaker ID : 1462\n",
            "**********************************************************************\n",
            "Voice Type: Female\n",
            "Accuracy: 100.00%\n",
            "**********************************************************************\n",
            "Speaker ID : 1673\n",
            "**********************************************************************\n",
            "Voice Type: Female\n",
            "Accuracy: 100.00%\n",
            "**********************************************************************\n",
            "Speaker ID : 2803\n",
            "**********************************************************************\n",
            "Voice Type: Male\n",
            "Accuracy: 100.00%\n",
            "**********************************************************************\n",
            "Speaker ID : 2902\n",
            "**********************************************************************\n",
            "Voice Type: Male\n",
            "Accuracy: 100.00%\n",
            "**********************************************************************\n",
            "Speaker ID : 1919\n",
            "**********************************************************************\n",
            "Voice Type: Female\n",
            "Accuracy: 98.96%\n",
            "**********************************************************************\n",
            "Speaker ID : 2428\n",
            "**********************************************************************\n",
            "Voice Type: Male\n",
            "Accuracy: 98.02%\n",
            "**********************************************************************\n",
            "Speaker ID : 2035\n",
            "**********************************************************************\n",
            "Voice Type: Female\n",
            "Accuracy: 100.00%\n",
            "**********************************************************************\n",
            "Speaker ID : 2086\n",
            "**********************************************************************\n",
            "Voice Type: Male\n",
            "Accuracy: 100.00%\n",
            "**********************************************************************\n",
            "Speaker ID : 1988\n",
            "**********************************************************************\n",
            "Voice Type: Female\n",
            "Accuracy: 88.71%\n",
            "**********************************************************************\n",
            "Speaker ID : 3000\n",
            "**********************************************************************\n",
            "Voice Type: Male\n",
            "Accuracy: 100.00%\n",
            "**********************************************************************\n",
            "Speaker ID : 2078\n",
            "**********************************************************************\n",
            "Voice Type: Male\n",
            "Accuracy: 84.95%\n",
            "**********************************************************************\n",
            "The Average Accuracy: 97.54%\n"
          ]
        }
      ]
    }
  ],
  "metadata": {
    "colab": {
      "collapsed_sections": [],
      "name": "gender_classification.ipynb",
      "provenance": []
    },
    "kernelspec": {
      "display_name": "Python 3",
      "language": "python",
      "name": "python3"
    },
    "language_info": {
      "codemirror_mode": {
        "name": "ipython",
        "version": 3
      },
      "file_extension": ".py",
      "mimetype": "text/x-python",
      "name": "python",
      "nbconvert_exporter": "python",
      "pygments_lexer": "ipython3",
      "version": "3.7.3"
    },
    "toc": {
      "base_numbering": 1,
      "nav_menu": {},
      "number_sections": true,
      "sideBar": true,
      "skip_h1_title": false,
      "title_cell": "Table of Contents",
      "title_sidebar": "Contents",
      "toc_cell": false,
      "toc_position": {},
      "toc_section_display": true,
      "toc_window_display": false
    },
    "accelerator": "GPU",
    "gpuClass": "standard"
  },
  "nbformat": 4,
  "nbformat_minor": 0
}